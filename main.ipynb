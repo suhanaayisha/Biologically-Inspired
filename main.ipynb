{
 "cells": [
  {
   "cell_type": "code",
   "execution_count": 265,
   "id": "0b44cfcc",
   "metadata": {},
   "outputs": [],
   "source": [
    "import pandas as pd"
   ]
  },
  {
   "cell_type": "code",
   "execution_count": 291,
   "id": "83a46fce",
   "metadata": {},
   "outputs": [
    {
     "ename": "ModuleNotFoundError",
     "evalue": "No module named 'ann.activation'",
     "output_type": "error",
     "traceback": [
      "\u001b[0;31m---------------------------------------------------------------------------\u001b[0m",
      "\u001b[0;31mModuleNotFoundError\u001b[0m                       Traceback (most recent call last)",
      "Cell \u001b[0;32mIn[291], line 1\u001b[0m\n\u001b[0;32m----> 1\u001b[0m \u001b[38;5;28;01mfrom\u001b[39;00m \u001b[38;5;21;01mann\u001b[39;00m\u001b[38;5;21;01m.\u001b[39;00m\u001b[38;5;21;01mactivation\u001b[39;00m \u001b[38;5;28;01mimport\u001b[39;00m \u001b[38;5;241m*\u001b[39m\n",
      "\u001b[0;31mModuleNotFoundError\u001b[0m: No module named 'ann.activation'"
     ]
    }
   ],
   "source": [
    "from ann.activation import *"
   ]
  },
  {
   "cell_type": "code",
   "execution_count": 290,
   "id": "c8f61ee7",
   "metadata": {},
   "outputs": [
    {
     "ename": "ModuleNotFoundError",
     "evalue": "No module named 'network'",
     "output_type": "error",
     "traceback": [
      "\u001b[0;31m---------------------------------------------------------------------------\u001b[0m",
      "\u001b[0;31mModuleNotFoundError\u001b[0m                       Traceback (most recent call last)",
      "Cell \u001b[0;32mIn[290], line 1\u001b[0m\n\u001b[0;32m----> 1\u001b[0m \u001b[38;5;28;01mfrom\u001b[39;00m \u001b[38;5;21;01mann\u001b[39;00m\u001b[38;5;21;01m.\u001b[39;00m\u001b[38;5;21;01mannBuilder\u001b[39;00m \u001b[38;5;28;01mimport\u001b[39;00m ANNBuilder\n",
      "File \u001b[0;32m~/Desktop/biologicaly inspired/Lab/coursework/ann/annBuilder.py:6\u001b[0m\n\u001b[1;32m      1\u001b[0m \u001b[38;5;66;03m#!/usr/bin/env python\u001b[39;00m\n\u001b[1;32m      2\u001b[0m \u001b[38;5;66;03m# coding: utf-8\u001b[39;00m\n\u001b[1;32m      3\u001b[0m \n\u001b[1;32m      4\u001b[0m \u001b[38;5;66;03m# In[4]:\u001b[39;00m\n\u001b[0;32m----> 6\u001b[0m \u001b[38;5;28;01mfrom\u001b[39;00m \u001b[38;5;21;01mnetwork\u001b[39;00m \u001b[38;5;28;01mimport\u001b[39;00m \u001b[38;5;241m*\u001b[39m\n\u001b[1;32m      8\u001b[0m \u001b[38;5;28;01mclass\u001b[39;00m \u001b[38;5;21;01mANNBuilder\u001b[39;00m:\n\u001b[1;32m      9\u001b[0m     \u001b[38;5;28;01mdef\u001b[39;00m \u001b[38;5;21mbuild\u001b[39m(nb_layers, list_nb_nodes, list_functions):\n",
      "\u001b[0;31mModuleNotFoundError\u001b[0m: No module named 'network'"
     ]
    }
   ],
   "source": [
    "from ann.annBuilder import ANNBuilder"
   ]
  },
  {
   "cell_type": "markdown",
   "id": "b28c635b",
   "metadata": {},
   "source": [
    "# Dataset import"
   ]
  },
  {
   "cell_type": "code",
   "execution_count": 268,
   "id": "45acc02b",
   "metadata": {},
   "outputs": [],
   "source": [
    "dataset = pd.read_csv('datasets/data_banknote_authentication.csv')"
   ]
  },
  {
   "cell_type": "markdown",
   "id": "9ed20d15",
   "metadata": {},
   "source": [
    "# Extracting features and rows from dataset"
   ]
  },
  {
   "cell_type": "code",
   "execution_count": 269,
   "id": "c182d41f",
   "metadata": {},
   "outputs": [
    {
     "name": "stdout",
     "output_type": "stream",
     "text": [
      "rows = 1371\n",
      "columns = 5\n"
     ]
    }
   ],
   "source": [
    "rows=dataset.shape[0];\n",
    "columns=dataset.shape[1];\n",
    "print(\"rows = {}\".format(rows))\n",
    "print(\"columns = {}\".format(columns))"
   ]
  },
  {
   "cell_type": "code",
   "execution_count": 270,
   "id": "3b278fe0",
   "metadata": {},
   "outputs": [],
   "source": [
    "X = dataset.iloc[:,:columns-1].values\n",
    "y = dataset.iloc[:,columns-1:columns].values"
   ]
  },
  {
   "cell_type": "code",
   "execution_count": 271,
   "id": "e643a1be",
   "metadata": {},
   "outputs": [
    {
     "name": "stdout",
     "output_type": "stream",
     "text": [
      "no_of_features = 4\n"
     ]
    }
   ],
   "source": [
    "no_of_features=X.shape[1];\n",
    "print(\"no_of_features = {}\".format(no_of_features))"
   ]
  },
  {
   "cell_type": "markdown",
   "id": "7410550d",
   "metadata": {},
   "source": [
    "# User Input"
   ]
  },
  {
   "cell_type": "code",
   "execution_count": 272,
   "id": "832ec703",
   "metadata": {},
   "outputs": [
    {
     "name": "stdout",
     "output_type": "stream",
     "text": [
      "Enter number of hiddhen layers (excluding input and output layer): 3\n"
     ]
    }
   ],
   "source": [
    "hidden_layers = int(input(\"Enter number of hiddhen layers (excluding input and output layer): \"))"
   ]
  },
  {
   "cell_type": "code",
   "execution_count": 273,
   "id": "b1745534",
   "metadata": {},
   "outputs": [
    {
     "name": "stdout",
     "output_type": "stream",
     "text": [
      "Total no. of layers 5\n"
     ]
    }
   ],
   "source": [
    "no_of_layers = 2 + hidden_layers\n",
    "print(\"Total no. of layers\", no_of_layers)"
   ]
  },
  {
   "cell_type": "code",
   "execution_count": 274,
   "id": "8bf93bc7",
   "metadata": {},
   "outputs": [
    {
     "name": "stdout",
     "output_type": "stream",
     "text": [
      "\n",
      "Enter the number of nodes in each hidden layers (separated by space).\n",
      " For eg. 3 2 1, if you have 3 hidden layers : 2 3 2\n"
     ]
    }
   ],
   "source": [
    "nodes_per_hidden_layer = list(map(int, \n",
    "    input(\"\\nEnter the number of nodes in each hidden layers (separated by space).\\n For eg. 3 2 1, if you have 3 hidden layers : \").strip().split()))[:hidden_layers]"
   ]
  },
  {
   "cell_type": "code",
   "execution_count": 275,
   "id": "121e0ce6",
   "metadata": {},
   "outputs": [
    {
     "name": "stdout",
     "output_type": "stream",
     "text": [
      "No. of nodes per hidden layer [4, 2, 3, 4, 1]\n"
     ]
    }
   ],
   "source": [
    "print(\"No. of nodes per hidden layer\", nodes_per_layer)"
   ]
  },
  {
   "cell_type": "code",
   "execution_count": 276,
   "id": "ad8d6d94",
   "metadata": {},
   "outputs": [],
   "source": [
    "nodes_per_layer = [no_of_features]+nodes_per_hidden_layer+[1]"
   ]
  },
  {
   "cell_type": "code",
   "execution_count": 277,
   "id": "0412d887",
   "metadata": {},
   "outputs": [
    {
     "name": "stdout",
     "output_type": "stream",
     "text": [
      "No. of nodes per layer [4, 2, 3, 2, 1]\n"
     ]
    }
   ],
   "source": [
    "print(\"No. of nodes per layer\", nodes_per_layer)"
   ]
  },
  {
   "cell_type": "code",
   "execution_count": 278,
   "id": "d6a1c613",
   "metadata": {},
   "outputs": [],
   "source": [
    "sigmoid = Sigmoid()\n",
    "relu = Relu()\n",
    "tanh = Tanh()"
   ]
  },
  {
   "cell_type": "code",
   "execution_count": 279,
   "id": "b7ed61a7",
   "metadata": {},
   "outputs": [],
   "source": [
    "functions = [relu,sigmoid,relu,tanh]"
   ]
  },
  {
   "cell_type": "code",
   "execution_count": 280,
   "id": "a29aca9d",
   "metadata": {},
   "outputs": [
    {
     "name": "stdout",
     "output_type": "stream",
     "text": [
      "\n",
      "Enter the activation functions for each layer (including input and output layer) (separated by space).\n",
      " Enter 's' for sigmoid, 'r' for relu and 't' for tan. \n",
      " For eg. if there are total of 5 layers s r s t s : s s s s s \n"
     ]
    }
   ],
   "source": [
    "functions_per_layer_str = list(map( str,\n",
    "    input(\"\\nEnter the activation functions for each layer (including input and output layer) (separated by space).\\n Enter 's' for sigmoid, 'r' for relu and 't' for tan. \\n For eg. if there are total of 5 layers s r s t s : \").strip().split()))"
   ]
  },
  {
   "cell_type": "code",
   "execution_count": 281,
   "id": "82a6c756",
   "metadata": {},
   "outputs": [],
   "source": [
    "def map_to_activation(s):\n",
    "    func= sigmoid\n",
    "\n",
    "    if func == 's': \n",
    "        func= sigmoid\n",
    "\n",
    "    elif func == 'r': \n",
    "        func= relu\n",
    "\n",
    "    elif func == 't': \n",
    "        func= tanh\n",
    "        \n",
    "    return func"
   ]
  },
  {
   "cell_type": "code",
   "execution_count": 282,
   "id": "9785cd83",
   "metadata": {},
   "outputs": [
    {
     "name": "stdout",
     "output_type": "stream",
     "text": [
      "functions_per_layer\n",
      " 5\n"
     ]
    }
   ],
   "source": [
    "functions_per_layer = map(map_to_activation,functions_per_layer_str)\n",
    "functions_per_layer= list(functions_per_layer);\n",
    "print(\"functions_per_layer\\n\",len(functions_per_layer))"
   ]
  },
  {
   "cell_type": "code",
   "execution_count": 287,
   "id": "81a1ff57",
   "metadata": {},
   "outputs": [
    {
     "ename": "TypeError",
     "evalue": "ANNBuilder.build() missing 1 required positional argument: 'list_functions'",
     "output_type": "error",
     "traceback": [
      "\u001b[0;31m---------------------------------------------------------------------------\u001b[0m",
      "\u001b[0;31mTypeError\u001b[0m                                 Traceback (most recent call last)",
      "Cell \u001b[0;32mIn[287], line 1\u001b[0m\n\u001b[0;32m----> 1\u001b[0m ann \u001b[38;5;241m=\u001b[39m ANNBuilder\u001b[38;5;241m.\u001b[39mbuild(no_of_layers, nodes_per_layer, [sigmoid,sigmoid,sigmoid,sigmoid,sigmoid])\n",
      "\u001b[0;31mTypeError\u001b[0m: ANNBuilder.build() missing 1 required positional argument: 'list_functions'"
     ]
    }
   ],
   "source": [
    "ann = ANNBuilder.build(no_of_layers, nodes_per_layer, [sigmoid,sigmoid,sigmoid,sigmoid,sigmoid])"
   ]
  },
  {
   "cell_type": "code",
   "execution_count": null,
   "id": "e69c46f6",
   "metadata": {},
   "outputs": [],
   "source": []
  }
 ],
 "metadata": {
  "kernelspec": {
   "display_name": "Python 3 (ipykernel)",
   "language": "python",
   "name": "python3"
  },
  "language_info": {
   "codemirror_mode": {
    "name": "ipython",
    "version": 3
   },
   "file_extension": ".py",
   "mimetype": "text/x-python",
   "name": "python",
   "nbconvert_exporter": "python",
   "pygments_lexer": "ipython3",
   "version": "3.11.4"
  }
 },
 "nbformat": 4,
 "nbformat_minor": 5
}
